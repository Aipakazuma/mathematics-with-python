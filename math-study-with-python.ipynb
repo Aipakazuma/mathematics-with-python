{
 "cells": [
  {
   "cell_type": "markdown",
   "metadata": {},
   "source": [
    "# Pythonで数式お勉強"
   ]
  },
  {
   "cell_type": "code",
   "execution_count": 2,
   "metadata": {
    "collapsed": true
   },
   "outputs": [],
   "source": [
    "import numpy as np"
   ]
  },
  {
   "cell_type": "markdown",
   "metadata": {},
   "source": [
    "例\n",
    "$$\n",
    "\\begin{align}\n",
    "\\sum_{k=1}^{\\infty} \\frac{1}{k^2} = \\frac{\\pi^2}{6}\n",
    "\\end{align}\n",
    "$$\n"
   ]
  },
  {
   "cell_type": "markdown",
   "metadata": {},
   "source": [
    "## ベクトル"
   ]
  },
  {
   "cell_type": "markdown",
   "metadata": {},
   "source": [
    "やっと理解への光が見えた\n",
    "\n",
    "* ベクトルの入門\n",
    "    * http://www.geocities.co.jp/Technopolis/1505/vx_index.htm\n",
    "* ベクトルの内積について\n",
    "    * http://www.geisya.or.jp/~mwm48961/kou2/matrix2.html\n",
    "    * 行と列の積\n",
    "        * 左からは行ベクトルを右からは列ベクトルを掛けるものとします。\n",
    "    * 行列（２次元以上？）の積\n",
    "        * ［ｍ x ｎ型］［ｎ x ｐ型］＝［ｍ x ｐ型］ \n",
    "        * 積が定義されるためには，左の列数と右の行数が等しくなければなりません\n",
    "        * 左の列（左n）の数と右の行（右n）の数の行数が同じじゃないとダメ\n",
    "        * 結果は[m x p型]となる\n",
    "\n",
    "$$|\\vec{a}|$$\n",
    "\n",
    "よく見る↑のパイプ文字は絶対値の意味"
   ]
  },
  {
   "cell_type": "code",
   "execution_count": 4,
   "metadata": {
    "collapsed": true
   },
   "outputs": [],
   "source": [
    "a = np.array([1, 2, 3])\n",
    "b = np.array([4, 5, 6])"
   ]
  },
  {
   "cell_type": "code",
   "execution_count": 7,
   "metadata": {
    "collapsed": false
   },
   "outputs": [
    {
     "data": {
      "text/plain": [
       "32"
      ]
     },
     "execution_count": 7,
     "metadata": {},
     "output_type": "execute_result"
    }
   ],
   "source": [
    "# 行と列の内積\n",
    "np.dot(a, b)"
   ]
  },
  {
   "cell_type": "code",
   "execution_count": 15,
   "metadata": {
    "collapsed": false,
    "scrolled": true
   },
   "outputs": [
    {
     "name": "stdout",
     "output_type": "stream",
     "text": [
      "38\n"
     ]
    }
   ],
   "source": [
    "# 行の数と列の数が合わない場合はNG\n",
    "# _a = np.array([1, 2])\n",
    "_b = np.array([4, 5, 6])\n",
    "# print(np.dot(_a, _b))\n",
    "# ValueError: shapes (2,) and (3,) not aligned: 2 (dim 0) != 3 (dim 0)\n",
    "\n",
    "_a = np.array([1, 2, 4]) # 列と同じする\n",
    "# 1行 x 3列の内積\n",
    "print(np.dot(_a, _b))"
   ]
  },
  {
   "cell_type": "code",
   "execution_count": 17,
   "metadata": {
    "collapsed": false
   },
   "outputs": [
    {
     "name": "stdout",
     "output_type": "stream",
     "text": [
      "32\n"
     ]
    }
   ],
   "source": [
    "__a = np.array([1, 2, 3])\n",
    "__b = np.array([4, 5, 6])\n",
    "# 1行, 3列 x 3行 x 1列の内積\n",
    "print(np.dot(__a, __b.T))"
   ]
  },
  {
   "cell_type": "code",
   "execution_count": 19,
   "metadata": {
    "collapsed": false
   },
   "outputs": [],
   "source": [
    "# NG\n",
    "# __a = np.array([1, 2, 3])\n",
    "# __b = np.array([4, 5])\n",
    "# 1行, 3列 x 2行 x 1列の内積\n",
    "# print(np.dot(__a, __b.T))\n",
    "# ValueError: shapes (3,) and (2,) not aligned: 3 (dim 0) != 2 (dim 0)"
   ]
  },
  {
   "cell_type": "markdown",
   "metadata": {},
   "source": [
    "## 線形代数\n",
    "\n",
    "参考にしたURL↓\n",
    "\n",
    "http://s0sem0y.hatenablog.com/entry/2016/05/16/235135"
   ]
  },
  {
   "cell_type": "markdown",
   "metadata": {},
   "source": [
    "$$\n",
    "\\vec{x}^{\\mathrm{T}} \\cdot \\vec{y} = (x_1, x_2, x_3)  \\left(\n",
    "    \\begin{array}{c}\n",
    "      y_1 \\\\\n",
    "      y_2 \\\\\n",
    "      y_3\n",
    "    \\end{array}\n",
    "  \\right) = (x_1y_1, x_2y_2, x_3y_3)\n",
    "$$\n"
   ]
  },
  {
   "cell_type": "code",
   "execution_count": 6,
   "metadata": {
    "collapsed": false
   },
   "outputs": [
    {
     "data": {
      "text/plain": [
       "array([52])"
      ]
     },
     "execution_count": 6,
     "metadata": {},
     "output_type": "execute_result"
    }
   ],
   "source": [
    "x = np.array([1, 2, 3])\n",
    "y = np.array([10, 9, 8], ndmin=2).T\n",
    "# 1* 10 + 2 * 9 + 3 * 8 = 10 + 18 + 24 = 28 + 24 = 52?\n",
    "x.dot(y)"
   ]
  },
  {
   "cell_type": "markdown",
   "metadata": {},
   "source": [
    "$$\n",
    "\\vec{x} \\cdot \\vec{y}^{\\mathrm{T}} = \\left(\n",
    "    \\begin{array}{c}\n",
    "      x_1 \\\\\n",
    "      x_2 \\\\\n",
    "      x_3\n",
    "    \\end{array}\n",
    "  \\right) (y_1, y_2, y_3) = \\left(\n",
    "      \\begin{array}{c}\n",
    "      {x_1}y_1 & {x_1}y_2 & {x_1}y_3\\\\\n",
    "      {x_2}y_1 & {x_2}y_2 & {x_2}y_3\\\\\n",
    "      {x_3}y_1 & {x_3}y_2 & {x_3}y_3\\\\\n",
    "      \\end{array}\n",
    "  \\right)\n",
    "$$\n"
   ]
  },
  {
   "cell_type": "code",
   "execution_count": 11,
   "metadata": {
    "collapsed": false
   },
   "outputs": [
    {
     "data": {
      "text/plain": [
       "array([[10,  9,  8],\n",
       "       [20, 18, 16],\n",
       "       [30, 27, 24]])"
      ]
     },
     "execution_count": 11,
     "metadata": {},
     "output_type": "execute_result"
    }
   ],
   "source": [
    "x = np.array([1, 2, 3])\n",
    "y = np.array([10, 9, 8])\n",
    "xx = np.array(x, ndmin=2).T\n",
    "\n",
    "xx * y"
   ]
  },
  {
   "cell_type": "markdown",
   "metadata": {},
   "source": [
    "## 対数\n",
    "\n",
    "対数って何よ！\n",
    "http://manapedia.jp/text/684\n",
    "\n",
    "$$2^x = 16$$\n",
    "\n",
    "16は2の4乗なので、x = 4と簡単に求められる。\n",
    "\n",
    "が、\n",
    "\n",
    "$$3^x = 5$$\n",
    "\n",
    "は、無理数（有理数ではない実数、つまり分子・分母ともに整数である分数（比 = 英: ratio）として表すことのできない実数を指す。）なので、すぐに求めるのが大変。\n",
    "\n",
    "ここで使うのがログ（log）とのこと\n",
    "３をｘ乗して５となるときｘの値を \n",
    "\n",
    "$$ x = \\log_35 $$\n",
    "\n",
    "と表します。無理数じゃなくても使える。\n",
    "\n",
    "$$ 4 = \\log_216$$\n",
    "\n",
    "求め方はわからん"
   ]
  },
  {
   "cell_type": "code",
   "execution_count": 23,
   "metadata": {
    "collapsed": false
   },
   "outputs": [
    {
     "data": {
      "text/plain": [
       "2.7725887222397811"
      ]
     },
     "execution_count": 23,
     "metadata": {},
     "output_type": "execute_result"
    }
   ],
   "source": [
    "# と、思いきやnp.log(x)とある！\n",
    "np.log(16)"
   ]
  },
  {
   "cell_type": "markdown",
   "metadata": {},
   "source": [
    "・・・・？\n",
    "\n",
    "\n",
    "使い方わからんかったので、ググったら見つかった\n",
    "\n",
    "http://pythondatascience.plavox.info/numpy/%E6%95%B0%E5%AD%A6%E7%B3%BB%E3%81%AE%E9%96%A2%E6%95%B0/"
   ]
  },
  {
   "cell_type": "code",
   "execution_count": 26,
   "metadata": {
    "collapsed": false
   },
   "outputs": [
    {
     "data": {
      "text/plain": [
       "1.5849625007211561"
      ]
     },
     "execution_count": 26,
     "metadata": {},
     "output_type": "execute_result"
    }
   ],
   "source": [
    "# マジックメソッド・・・？？？\n",
    "np.log2(3)"
   ]
  },
  {
   "cell_type": "code",
   "execution_count": 31,
   "metadata": {
    "collapsed": false
   },
   "outputs": [
    {
     "data": {
      "text/plain": [
       "4.0"
      ]
     },
     "execution_count": 31,
     "metadata": {},
     "output_type": "execute_result"
    }
   ],
   "source": [
    "# さっきの問題を解くと\n",
    "np.log2(16)"
   ]
  },
  {
   "cell_type": "markdown",
   "metadata": {},
   "source": [
    "おおー！"
   ]
  },
  {
   "cell_type": "code",
   "execution_count": 32,
   "metadata": {
    "collapsed": false
   },
   "outputs": [
    {
     "ename": "AttributeError",
     "evalue": "module 'numpy' has no attribute 'log3'",
     "output_type": "error",
     "traceback": [
      "\u001b[0;31m---------------------------------------------------------------------------\u001b[0m",
      "\u001b[0;31mAttributeError\u001b[0m                            Traceback (most recent call last)",
      "\u001b[0;32m<ipython-input-32-7cd21f2c6d52>\u001b[0m in \u001b[0;36m<module>\u001b[0;34m()\u001b[0m\n\u001b[0;32m----> 1\u001b[0;31m \u001b[0mnp\u001b[0m\u001b[0;34m.\u001b[0m\u001b[0mlog3\u001b[0m\u001b[0;34m(\u001b[0m\u001b[0;36m5\u001b[0m\u001b[0;34m)\u001b[0m\u001b[0;34m\u001b[0m\u001b[0m\n\u001b[0m",
      "\u001b[0;31mAttributeError\u001b[0m: module 'numpy' has no attribute 'log3'"
     ]
    }
   ],
   "source": [
    "np.log3(5)"
   ]
  },
  {
   "cell_type": "markdown",
   "metadata": {},
   "source": [
    "あれ？？？\n",
    "\n",
    "なんか用意されていないっぽい"
   ]
  },
  {
   "cell_type": "markdown",
   "metadata": {},
   "source": [
    ">NumPy には、対数関数として以下が定義されています。\n",
    ">\n",
    ">e が底 (Log_e(x)) の np.log(x)  \n",
    ">2 が底（Log_2(x)）の np.log2(x)  \n",
    ">10 が底（Log_10(x)）の np.log10(x)\n",
    "\n",
    "うーむ。よくわからんが求められないのかね？\n",
    "\n",
    "さらに、$$\\log5$$\n",
    "のように底がない場合があるとのこと\n",
    "\n",
    "底がない場合は\n",
    "* 底eの省略なら数3の微分積分\n",
    "* 底10の省略なら常用対数\n",
    "\n",
    "とのこと\n",
    "eは自然数のこと。まぁない場合は明記があるとかないとか"
   ]
  },
  {
   "cell_type": "code",
   "execution_count": 35,
   "metadata": {
    "collapsed": false
   },
   "outputs": [
    {
     "data": {
      "text/plain": [
       "0.69897000433601886"
      ]
     },
     "execution_count": 35,
     "metadata": {},
     "output_type": "execute_result"
    }
   ],
   "source": [
    "# こういうことでいいのかな？\n",
    "np.log10(5)"
   ]
  },
  {
   "cell_type": "markdown",
   "metadata": {},
   "source": [
    "## 書籍「統計学の基礎のキ」から\n",
    "\n",
    "* chapter2\n",
    "    * 平均値\n",
    "        * $$\\displaystyle \\overline{x} = \\frac{\\sum^N_{i=1}x_i}{N} = \\frac{x_1 + x_2 + \\cdots + x_i + \\cdots + x_N}{N}$$\n",
    "    * 中央値\n",
    "    * 最頻値\n",
    "    * 他にもある\n",
    "        * トリム平均\n",
    "* chapter3\n",
    "    * 分散について\n",
    "        * 絶対値の和によるデータのバラツキ -> 平均偏差\n",
    "        * 2乗の和であるデータのバラツキ -> 1個あたりのデータの変動\n",
    "        * １個あたりのデータの変動（分散）\n",
    "            * $$\\frac{(x_1 - \\overline{x})^2 + (x_2 - \\overline{x})^2 + \\cdots + (x_i - \\overline{x})^2}{N}$$\n",
    "        * 標本分散（これをよく使う）\n",
    "            * $$s^2 = \\frac{(x_1 - \\overline{x})^2 + (x_2 - \\overline{x})^2 + \\cdots + (x_i - \\overline{x})^2}{N - 1} = \\frac{N\\cdot(\\sum^N_{i=1}x_i^2) - (\\sum^N_{i=1}x_i)^2}{N \\cdot(N -1)}$$\n",
    "    * データ変動の式\n",
    "         * $$\\sum^N_{i=1}(x_i - \\overline{x})^2$$\n",
    "         * $$\\frac{N\\cdot(\\sum^N_{i=1}x_i^2) - (\\sum^N_{i=1}x_i)^2}{N}$$\n",
    "    *  母集団\n",
    "        * 母集団の平均・・・母平均 $μ$ （ミュー）\n",
    "        * 母集団の分散・・・母分散 $σ^2$ （シグマ）\n",
    "    * 分散の公式\n",
    "        * $$Var(ax + b) = Var(ax) = a^2 \\cdot Var(x)$$\n",
    "            * xの分散 $$S^2 = Var(x)$$\n",
    "            * xの標準分散 $$s^2 = Var(x)$$\n",
    "* chapter4\n",
    "    * 標準偏差\n",
    "        * 分散の単位が2乗されているため、平方根で単位を戻す\n",
    "            * 分散S^2を標準偏差S\n",
    "                * $$S= \\sqrt{\\frac{(x_1 - \\overline{x})^2 + (x_2 - \\overline{x})^2 + \\cdots + (x_i - \\overline{x})^2}{N}}$$\n",
    "            * 標本分散s^2を標本標準偏差s\n",
    "                * $$s= \\sqrt{\\frac{(x_1 - \\overline{x})^2 + (x_2 - \\overline{x})^2 + \\cdots + (x_i - \\overline{x})^2}{N - 1}}$$\n",
    "    * なんで標準化すんの？\n",
    "        * 標準化したデータの1.平均をとると0になる。2.標準偏差を求めると1になる\n",
    "        * 温度と圧力を説明変数としたときに、大きい値に引っ張られるので標準化する\n",
    "            * データの標準化\n",
    "                * $$x => \\frac{x - 平均}{標準偏差}$$\n",
    "* chapter5はplotの話なので飛ばす\n",
    "* chapter6\n",
    "    * 相関係数\n",
    "        * $$r = \\frac{\\sum^N_{i=1}(a_i - \\overline{a})(b_i - \\overline{b})}{\\sqrt{\\sum^N_{i=1}(a_i - \\overline{a})^2} \\cdot \\sqrt{\\sum^N_{i=1}(b_i - \\overline{b})^2}}$$\n",
    "        * 上の式をピアソンの相関係数といいます。\n",
    "        * rのことを積率相関係数\n",
    "    * $$a_1b_1 + a_2b_2$$\n",
    "        * 内積\n",
    "    * 共分散\n",
    "        * $$ \\frac{(a_1 - \\overline{a})(b_1 - \\overline{b}) + (a_2 - \\overline{a})(b_2 - \\overline{b}) + \\cdots + (a_N - \\overline{a})(b_N - \\overline{b})}{N - 1} + \\frac{\\sum^N_{i=1}(a_i - \\overline{a})(b_i - \\overline{b})}{N - 1}$$\n",
    "* chapter7\n",
    "    * スピアマンの順位相関係数\n",
    "        * $$r_s = 1 - \\frac{6\\sum^N_{i=1}(a_i - b_i)^2}{N(N^2 - 1)}$$"
   ]
  },
  {
   "cell_type": "code",
   "execution_count": null,
   "metadata": {
    "collapsed": true
   },
   "outputs": [],
   "source": [
    "\n"
   ]
  }
 ],
 "metadata": {
  "kernelspec": {
   "display_name": "Python 3",
   "language": "python",
   "name": "python3"
  },
  "language_info": {
   "codemirror_mode": {
    "name": "ipython",
    "version": 3
   },
   "file_extension": ".py",
   "mimetype": "text/x-python",
   "name": "python",
   "nbconvert_exporter": "python",
   "pygments_lexer": "ipython3",
   "version": "3.6.0"
  }
 },
 "nbformat": 4,
 "nbformat_minor": 2
}
